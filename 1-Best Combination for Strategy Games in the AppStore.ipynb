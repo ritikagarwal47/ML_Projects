{
 "cells": [
  {
   "cell_type": "markdown",
   "metadata": {},
   "source": [
    "# Problem Statement:- To expose the best combination for strategy games available in the AppStore in order to get a good user rating (4.0/5.0 and above)"
   ]
  },
  {
   "cell_type": "code",
   "execution_count": 30,
   "metadata": {},
   "outputs": [],
   "source": [
    "import numpy as n\n",
    "import pandas as p\n",
    "import matplotlib.pyplot as pt\n",
    "from scipy import stats\n",
    "import seaborn as s"
   ]
  },
  {
   "cell_type": "code",
   "execution_count": 31,
   "metadata": {
    "scrolled": true
   },
   "outputs": [
    {
     "data": {
      "text/plain": [
       "URL                                 0\n",
       "ID                                  0\n",
       "Name                                0\n",
       "Subtitle                        11746\n",
       "Icon URL                            0\n",
       "Average User Rating              9446\n",
       "User Rating Count                9446\n",
       "Price                              24\n",
       "In-app Purchases                 9324\n",
       "Description                         0\n",
       "Developer                           0\n",
       "Age Rating                          0\n",
       "Languages                          60\n",
       "Size                                1\n",
       "Primary Genre                       0\n",
       "Genres                              0\n",
       "Original Release Date               0\n",
       "Current Version Release Date        0\n",
       "dtype: int64"
      ]
     },
     "execution_count": 31,
     "metadata": {},
     "output_type": "execute_result"
    }
   ],
   "source": [
    "#DATA COLLECTION\n",
    "data=p.read_csv(r\"D:\\appstore.csv\")\n",
    "df= p.DataFrame(data)\n",
    "#ALL NULL VALUES\n",
    "df.isnull().sum()"
   ]
  },
  {
   "cell_type": "code",
   "execution_count": 32,
   "metadata": {},
   "outputs": [
    {
     "data": {
      "text/plain": [
       "9446"
      ]
     },
     "execution_count": 32,
     "metadata": {},
     "output_type": "execute_result"
    }
   ],
   "source": [
    "#null values of Average User Rating\n",
    "data['Average User Rating'].isnull().sum()"
   ]
  },
  {
   "cell_type": "code",
   "execution_count": 33,
   "metadata": {},
   "outputs": [
    {
     "data": {
      "text/plain": [
       "7561"
      ]
     },
     "execution_count": 33,
     "metadata": {},
     "output_type": "execute_result"
    }
   ],
   "source": [
    "#non null values of Average User Rating\n",
    "data['Average User Rating'].count() "
   ]
  },
  {
   "cell_type": "markdown",
   "metadata": {},
   "source": [
    "We have found that , about 50% of the values of 'Average User Rating' column are null this can be because most of the users thing that it is a waste of time . So we can expect a lot of high and low in rating."
   ]
  },
  {
   "cell_type": "markdown",
   "metadata": {},
   "source": [
    "# Performing Data Preparation by cleaning the data and removing null values"
   ]
  },
  {
   "cell_type": "markdown",
   "metadata": {},
   "source": [
    "First thoughts:\n",
    "    There are many non usefull data column like URL,ID,Subtitle,Icon URL.\n",
    "    We can remove many of them."
   ]
  },
  {
   "cell_type": "code",
   "execution_count": 34,
   "metadata": {
    "scrolled": true
   },
   "outputs": [
    {
     "data": {
      "text/html": [
       "<div>\n",
       "<style scoped>\n",
       "    .dataframe tbody tr th:only-of-type {\n",
       "        vertical-align: middle;\n",
       "    }\n",
       "\n",
       "    .dataframe tbody tr th {\n",
       "        vertical-align: top;\n",
       "    }\n",
       "\n",
       "    .dataframe thead th {\n",
       "        text-align: right;\n",
       "    }\n",
       "</style>\n",
       "<table border=\"1\" class=\"dataframe\">\n",
       "  <thead>\n",
       "    <tr style=\"text-align: right;\">\n",
       "      <th></th>\n",
       "      <th>ID</th>\n",
       "      <th>Name</th>\n",
       "      <th>Average User Rating</th>\n",
       "      <th>User Rating Count</th>\n",
       "      <th>Price</th>\n",
       "      <th>In-app Purchases</th>\n",
       "      <th>Developer</th>\n",
       "      <th>Age Rating</th>\n",
       "      <th>Languages</th>\n",
       "      <th>Size</th>\n",
       "      <th>Primary Genre</th>\n",
       "      <th>Genres</th>\n",
       "      <th>Original Release Date</th>\n",
       "      <th>Current Version Release Date</th>\n",
       "    </tr>\n",
       "  </thead>\n",
       "  <tbody>\n",
       "    <tr>\n",
       "      <th>0</th>\n",
       "      <td>284921427</td>\n",
       "      <td>Sudoku</td>\n",
       "      <td>4.0</td>\n",
       "      <td>3553.0</td>\n",
       "      <td>2.99</td>\n",
       "      <td>0</td>\n",
       "      <td>Mighty Mighty Good Games</td>\n",
       "      <td>4+</td>\n",
       "      <td>DA, NL, EN, FI, FR, DE, IT, JA, KO, NB, PL, PT...</td>\n",
       "      <td>15.85</td>\n",
       "      <td>Games</td>\n",
       "      <td>Games, Strategy, Puzzle</td>\n",
       "      <td>11/07/2008</td>\n",
       "      <td>30/05/2017</td>\n",
       "    </tr>\n",
       "    <tr>\n",
       "      <th>1</th>\n",
       "      <td>284926400</td>\n",
       "      <td>Reversi</td>\n",
       "      <td>3.5</td>\n",
       "      <td>284.0</td>\n",
       "      <td>1.99</td>\n",
       "      <td>0</td>\n",
       "      <td>Kiss The Machine</td>\n",
       "      <td>4+</td>\n",
       "      <td>EN</td>\n",
       "      <td>12.33</td>\n",
       "      <td>Games</td>\n",
       "      <td>Games, Strategy, Board</td>\n",
       "      <td>11/07/2008</td>\n",
       "      <td>17/05/2018</td>\n",
       "    </tr>\n",
       "    <tr>\n",
       "      <th>2</th>\n",
       "      <td>284946595</td>\n",
       "      <td>Morocco</td>\n",
       "      <td>3.0</td>\n",
       "      <td>8376.0</td>\n",
       "      <td>0.00</td>\n",
       "      <td>0</td>\n",
       "      <td>Bayou Games</td>\n",
       "      <td>4+</td>\n",
       "      <td>EN</td>\n",
       "      <td>0.67</td>\n",
       "      <td>Games</td>\n",
       "      <td>Games, Board, Strategy</td>\n",
       "      <td>11/07/2008</td>\n",
       "      <td>5/09/2017</td>\n",
       "    </tr>\n",
       "    <tr>\n",
       "      <th>3</th>\n",
       "      <td>285755462</td>\n",
       "      <td>Sudoku (Free)</td>\n",
       "      <td>3.5</td>\n",
       "      <td>190394.0</td>\n",
       "      <td>0.00</td>\n",
       "      <td>0</td>\n",
       "      <td>Mighty Mighty Good Games</td>\n",
       "      <td>4+</td>\n",
       "      <td>DA, NL, EN, FI, FR, DE, IT, JA, KO, NB, PL, PT...</td>\n",
       "      <td>21.55</td>\n",
       "      <td>Games</td>\n",
       "      <td>Games, Strategy, Puzzle</td>\n",
       "      <td>23/07/2008</td>\n",
       "      <td>30/05/2017</td>\n",
       "    </tr>\n",
       "    <tr>\n",
       "      <th>4</th>\n",
       "      <td>285831220</td>\n",
       "      <td>Senet Deluxe</td>\n",
       "      <td>3.5</td>\n",
       "      <td>28.0</td>\n",
       "      <td>2.99</td>\n",
       "      <td>0</td>\n",
       "      <td>RoGame Software</td>\n",
       "      <td>4+</td>\n",
       "      <td>DA, NL, EN, FR, DE, EL, IT, JA, KO, NO, PT, RU...</td>\n",
       "      <td>34.69</td>\n",
       "      <td>Games</td>\n",
       "      <td>Games, Strategy, Board, Education</td>\n",
       "      <td>18/07/2008</td>\n",
       "      <td>22/07/2018</td>\n",
       "    </tr>\n",
       "    <tr>\n",
       "      <th>...</th>\n",
       "      <td>...</td>\n",
       "      <td>...</td>\n",
       "      <td>...</td>\n",
       "      <td>...</td>\n",
       "      <td>...</td>\n",
       "      <td>...</td>\n",
       "      <td>...</td>\n",
       "      <td>...</td>\n",
       "      <td>...</td>\n",
       "      <td>...</td>\n",
       "      <td>...</td>\n",
       "      <td>...</td>\n",
       "      <td>...</td>\n",
       "      <td>...</td>\n",
       "    </tr>\n",
       "    <tr>\n",
       "      <th>17002</th>\n",
       "      <td>1474626442</td>\n",
       "      <td>Stack Puzzle : Rise Tower</td>\n",
       "      <td>NaN</td>\n",
       "      <td>NaN</td>\n",
       "      <td>0.00</td>\n",
       "      <td>0</td>\n",
       "      <td>Zhigang Pei</td>\n",
       "      <td>4+</td>\n",
       "      <td>EN</td>\n",
       "      <td>64.80</td>\n",
       "      <td>Games</td>\n",
       "      <td>Games, Entertainment, Casual, Strategy</td>\n",
       "      <td>30/07/2019</td>\n",
       "      <td>30/07/2019</td>\n",
       "    </tr>\n",
       "    <tr>\n",
       "      <th>17003</th>\n",
       "      <td>1474919257</td>\n",
       "      <td>EachOther</td>\n",
       "      <td>NaN</td>\n",
       "      <td>NaN</td>\n",
       "      <td>0.00</td>\n",
       "      <td>0</td>\n",
       "      <td>Sultan Shindi</td>\n",
       "      <td>4+</td>\n",
       "      <td>EN</td>\n",
       "      <td>110.34</td>\n",
       "      <td>Games</td>\n",
       "      <td>Games, Family, Strategy</td>\n",
       "      <td>1/08/2019</td>\n",
       "      <td>1/08/2019</td>\n",
       "    </tr>\n",
       "    <tr>\n",
       "      <th>17004</th>\n",
       "      <td>1474962324</td>\n",
       "      <td>Rabbit Vs Tortoise</td>\n",
       "      <td>NaN</td>\n",
       "      <td>NaN</td>\n",
       "      <td>0.00</td>\n",
       "      <td>0</td>\n",
       "      <td>Vishal Baldha</td>\n",
       "      <td>4+</td>\n",
       "      <td>EN</td>\n",
       "      <td>23.21</td>\n",
       "      <td>Games</td>\n",
       "      <td>Games, Strategy</td>\n",
       "      <td>3/08/2019</td>\n",
       "      <td>3/08/2019</td>\n",
       "    </tr>\n",
       "    <tr>\n",
       "      <th>17005</th>\n",
       "      <td>1474963671</td>\n",
       "      <td>FaTaLL</td>\n",
       "      <td>NaN</td>\n",
       "      <td>NaN</td>\n",
       "      <td>0.00</td>\n",
       "      <td>9.99, 49.99, 3.99</td>\n",
       "      <td>Tayrem Games</td>\n",
       "      <td>4+</td>\n",
       "      <td>EN</td>\n",
       "      <td>196.75</td>\n",
       "      <td>Games</td>\n",
       "      <td>Games, Strategy, Action</td>\n",
       "      <td>1/08/2019</td>\n",
       "      <td>1/08/2019</td>\n",
       "    </tr>\n",
       "    <tr>\n",
       "      <th>17006</th>\n",
       "      <td>1475076711</td>\n",
       "      <td>The Three Kingdoms :Bomb</td>\n",
       "      <td>NaN</td>\n",
       "      <td>NaN</td>\n",
       "      <td>0.00</td>\n",
       "      <td>0</td>\n",
       "      <td>ming bo tang</td>\n",
       "      <td>4+</td>\n",
       "      <td>EN, ZH</td>\n",
       "      <td>22.95</td>\n",
       "      <td>Games</td>\n",
       "      <td>Games, Strategy, Puzzle</td>\n",
       "      <td>2/08/2019</td>\n",
       "      <td>2/08/2019</td>\n",
       "    </tr>\n",
       "  </tbody>\n",
       "</table>\n",
       "<p>17007 rows × 14 columns</p>\n",
       "</div>"
      ],
      "text/plain": [
       "               ID                       Name  Average User Rating  \\\n",
       "0       284921427                     Sudoku                  4.0   \n",
       "1       284926400                    Reversi                  3.5   \n",
       "2       284946595                    Morocco                  3.0   \n",
       "3       285755462              Sudoku (Free)                  3.5   \n",
       "4       285831220               Senet Deluxe                  3.5   \n",
       "...           ...                        ...                  ...   \n",
       "17002  1474626442  Stack Puzzle : Rise Tower                  NaN   \n",
       "17003  1474919257                  EachOther                  NaN   \n",
       "17004  1474962324         Rabbit Vs Tortoise                  NaN   \n",
       "17005  1474963671                     FaTaLL                  NaN   \n",
       "17006  1475076711   The Three Kingdoms :Bomb                  NaN   \n",
       "\n",
       "       User Rating Count  Price   In-app Purchases                 Developer  \\\n",
       "0                 3553.0   2.99                  0  Mighty Mighty Good Games   \n",
       "1                  284.0   1.99                  0          Kiss The Machine   \n",
       "2                 8376.0   0.00                  0               Bayou Games   \n",
       "3               190394.0   0.00                  0  Mighty Mighty Good Games   \n",
       "4                   28.0   2.99                  0           RoGame Software   \n",
       "...                  ...    ...                ...                       ...   \n",
       "17002                NaN   0.00                  0               Zhigang Pei   \n",
       "17003                NaN   0.00                  0             Sultan Shindi   \n",
       "17004                NaN   0.00                  0             Vishal Baldha   \n",
       "17005                NaN   0.00  9.99, 49.99, 3.99              Tayrem Games   \n",
       "17006                NaN   0.00                  0              ming bo tang   \n",
       "\n",
       "      Age Rating                                          Languages    Size  \\\n",
       "0             4+  DA, NL, EN, FI, FR, DE, IT, JA, KO, NB, PL, PT...   15.85   \n",
       "1             4+                                                 EN   12.33   \n",
       "2             4+                                                 EN    0.67   \n",
       "3             4+  DA, NL, EN, FI, FR, DE, IT, JA, KO, NB, PL, PT...   21.55   \n",
       "4             4+  DA, NL, EN, FR, DE, EL, IT, JA, KO, NO, PT, RU...   34.69   \n",
       "...          ...                                                ...     ...   \n",
       "17002         4+                                                 EN   64.80   \n",
       "17003         4+                                                 EN  110.34   \n",
       "17004         4+                                                 EN   23.21   \n",
       "17005         4+                                                 EN  196.75   \n",
       "17006         4+                                             EN, ZH   22.95   \n",
       "\n",
       "      Primary Genre                                  Genres  \\\n",
       "0             Games                 Games, Strategy, Puzzle   \n",
       "1             Games                  Games, Strategy, Board   \n",
       "2             Games                  Games, Board, Strategy   \n",
       "3             Games                 Games, Strategy, Puzzle   \n",
       "4             Games       Games, Strategy, Board, Education   \n",
       "...             ...                                     ...   \n",
       "17002         Games  Games, Entertainment, Casual, Strategy   \n",
       "17003         Games                 Games, Family, Strategy   \n",
       "17004         Games                         Games, Strategy   \n",
       "17005         Games                 Games, Strategy, Action   \n",
       "17006         Games                 Games, Strategy, Puzzle   \n",
       "\n",
       "      Original Release Date Current Version Release Date  \n",
       "0                11/07/2008                   30/05/2017  \n",
       "1                11/07/2008                   17/05/2018  \n",
       "2                11/07/2008                    5/09/2017  \n",
       "3                23/07/2008                   30/05/2017  \n",
       "4                18/07/2008                   22/07/2018  \n",
       "...                     ...                          ...  \n",
       "17002            30/07/2019                   30/07/2019  \n",
       "17003             1/08/2019                    1/08/2019  \n",
       "17004             3/08/2019                    3/08/2019  \n",
       "17005             1/08/2019                    1/08/2019  \n",
       "17006             2/08/2019                    2/08/2019  \n",
       "\n",
       "[17007 rows x 14 columns]"
      ]
     },
     "execution_count": 34,
     "metadata": {},
     "output_type": "execute_result"
    }
   ],
   "source": [
    "#Cleaning and tranforming the data\n",
    "data[\"Price\"]=data[\"Price\"].fillna(0, axis=0)\n",
    "\n",
    "data[\"In-app Purchases\"]=data[\"In-app Purchases\"].fillna(0, axis=0)\n",
    "data[\"Languages\"]=data[\"Languages\"].fillna(\"EN\", axis=0)\n",
    "data['Size'].fillna(data['Size'].mean(), inplace=True)\n",
    "data['Size'] = round(data['Size']/10**6, 2) \n",
    "df.drop(['Subtitle', 'Description','Icon URL','URL'], axis = 1)"
   ]
  },
  {
   "cell_type": "code",
   "execution_count": 35,
   "metadata": {},
   "outputs": [
    {
     "data": {
      "text/plain": [
       "Games                16286\n",
       "Education              222\n",
       "Entertainment          198\n",
       "Utilities               77\n",
       "Sports                  60\n",
       "Reference               32\n",
       "Stickers                29\n",
       "Finance                 18\n",
       "Business                16\n",
       "Productivity            15\n",
       "Lifestyle               10\n",
       "Book                     9\n",
       "Social Networking        9\n",
       "News                     7\n",
       "Health & Fitness         5\n",
       "Food & Drink             4\n",
       "Navigation               3\n",
       "Music                    3\n",
       "Medical                  2\n",
       "Shopping                 1\n",
       "Travel                   1\n",
       "Name: Primary Genre, dtype: int64"
      ]
     },
     "execution_count": 35,
     "metadata": {},
     "output_type": "execute_result"
    }
   ],
   "source": [
    "data['Primary Genre'].value_counts()"
   ]
  },
  {
   "cell_type": "markdown",
   "metadata": {},
   "source": [
    "Lets see further what additional information about genres we can get ."
   ]
  },
  {
   "cell_type": "code",
   "execution_count": 36,
   "metadata": {
    "scrolled": true
   },
   "outputs": [],
   "source": [
    "#splitting stings with genres\n",
    "genres = data['Genres'].str.split(', ')"
   ]
  },
  {
   "cell_type": "markdown",
   "metadata": {},
   "source": [
    "# Identifying which genres have higher user ratings"
   ]
  },
  {
   "cell_type": "code",
   "execution_count": 37,
   "metadata": {
    "scrolled": true
   },
   "outputs": [
    {
     "data": {
      "image/png": "[encoded data removed]",
      "text/plain": [
       "<Figure size 1296x432 with 1 Axes>"
      ]
     },
     "metadata": {
      "needs_background": "light"
     },
     "output_type": "display_data"
    }
   ],
   "source": [
    "top_genres = list(data[\"Primary Genre\"].value_counts().index)\n",
    "ct_genre_avgrating = p.crosstab(data[data[\"Primary Genre\"].isin(top_genres)][\"Primary Genre\"], data[\"Average User Rating\"], normalize=0)\n",
    "ct_genre_avgrating.plot.bar(stacked=True, figsize=(18,6))\n",
    "pt.title(\"Average User Rating\", fontsize = 15)\n",
    "pt.show()"
   ]
  },
  {
   "cell_type": "markdown",
   "metadata": {},
   "source": [
    "# Identifying the trend of user ratings based on pricing"
   ]
  },
  {
   "cell_type": "code",
   "execution_count": 40,
   "metadata": {},
   "outputs": [
    {
     "data": {
      "image/png": "[encoded data removed]",
      "text/plain": [
       "<Figure size 432x288 with 1 Axes>"
      ]
     },
     "metadata": {
      "needs_background": "light"
     },
     "output_type": "display_data"
    }
   ],
   "source": [
    "d = data.groupby([\"Average User Rating\"])['Price'].aggregate(n.median).reset_index()\n",
    "s.barplot(x='Average User Rating', y=\"Price\", data=data, order=d['Average User Rating'])\n",
    "pt.show()"
   ]
  },
  {
   "cell_type": "markdown",
   "metadata": {},
   "source": [
    "Hence, it look like that there is a very bit diffrence in rating by change in price."
   ]
  },
  {
   "cell_type": "markdown",
   "metadata": {},
   "source": [
    "# INFERENCE:    "
   ]
  },
  {
   "cell_type": "markdown",
   "metadata": {},
   "source": [
    "Now ye can say that in order to get the best combination for strategy games available in the AppStore is by apps with genres like education,finance,games,sports and utilities are more likely to have a good user rating and has little dependency on the price of the app."
   ]
  }
 ],
 "metadata": {
  "kernelspec": {
   "display_name": "Python 3",
   "language": "python",
   "name": "python3"
  },
  "language_info": {
   "codemirror_mode": {
    "name": "ipython",
    "version": 3
   },
   "file_extension": ".py",
   "mimetype": "text/x-python",
   "name": "python",
   "nbconvert_exporter": "python",
   "pygments_lexer": "ipython3",
   "version": "3.7.6"
  }
 },
 "nbformat": 4,
 "nbformat_minor": 4
}
